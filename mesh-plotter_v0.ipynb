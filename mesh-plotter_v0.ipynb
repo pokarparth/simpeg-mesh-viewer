{
 "cells": [
  {
   "cell_type": "code",
   "execution_count": 1,
   "id": "f8ad1d77",
   "metadata": {},
   "outputs": [],
   "source": [
    "# 1) Imports & installation checks\n",
    "import numpy as np\n",
    "from discretize import TensorMesh, TreeMesh\n",
    "import discretize\n",
    "import pyvista as pv\n",
    "from mesh_viewer import TreeMeshViewer, create_mesh_viewer\n"
   ]
  },
  {
   "cell_type": "code",
   "execution_count": 2,
   "id": "06826607",
   "metadata": {},
   "outputs": [],
   "source": [
    "hx = np.ones(20)\n",
    "hy = np.ones(20)\n",
    "hz = np.ones(20)\n",
    "mesh = TensorMesh([hx, hy, hz], x0=\"CCC\")  # origin at (0,0,0)\n",
    "\n",
    "# 3) Create a “half-space” model: all cells = 1.0\n",
    "model = np.ones(mesh.n_cells)\n",
    "\n",
    "# Add a high-conductivity layer\n",
    "model[mesh.gridCC[:, 2] < -1.0] = 10.0  # Deep layer\n",
    "\n",
    "# Add some heterogeneity\n",
    "model[(mesh.gridCC[:, 0] > 0) & (mesh.gridCC[:, 2] > -0.5)] = 0.1  # Resistive block\n"
   ]
  },
  {
   "cell_type": "code",
   "execution_count": 3,
   "id": "f4960407",
   "metadata": {},
   "outputs": [
    {
     "data": {
      "text/html": [
       "<table>\n",
       "  <tr>\n",
       "    <td style='font-weight: bold; font-size: 1.2em; text-align: center;' colspan='3'>TensorMesh</td>\n",
       "    <td style='font-size: 1.2em; text-align: center;'colspan='4'>8,000 cells</td>\n",
       "  </tr>\n",
       "  <tr>\n",
       "    <th></th>\n",
       "    <th></th>\n",
       "    <th colspan='2' style='padding: 5px 20px 5px 20px;'>MESH EXTENT</th>\n",
       "    <th colspan='2' style='padding: 5px 20px 5px 20px;'>CELL WIDTH</th>\n",
       "    <th style='padding: 5px 20px 5px 20px;'>FACTOR</th>\n",
       "  </tr>\n",
       "  <tr>\n",
       "    <th style='padding: 5px 20px 5px 20px;'>dir</th>\n",
       "    <th style='padding: 5px 20px 5px 20px;'>nC</th>\n",
       "    <th style='padding: 5px 20px 5px 20px;'>min</th>\n",
       "    <th style='padding: 5px 20px 5px 20px;'>max</th>\n",
       "    <th style='padding: 5px 20px 5px 20px;'>min</th>\n",
       "    <th style='padding: 5px 20px 5px 20px;'>max</th>\n",
       "    <th style='padding: 5px 20px 5px 20px;'>max</th>\n",
       "  </tr>\n",
       "  <tr>\n",
       "    <td style='padding: 5px 20px 5px 20px;'>x</td>\n",
       "    <td style='padding: 5px 20px 5px 20px;'>20</td>\n",
       "    <td style='padding: 5px 20px 5px 20px;'>-10.00</td>\n",
       "    <td style='padding: 5px 20px 5px 20px;'>10.00</td>\n",
       "    <td style='padding: 5px 20px 5px 20px;'>1.00</td>\n",
       "    <td style='padding: 5px 20px 5px 20px;'>1.00</td>\n",
       "    <td style='padding: 5px 20px 5px 20px;'>1.00</td>\n",
       "  </tr>\n",
       "  <tr>\n",
       "    <td style='padding: 5px 20px 5px 20px;'>y</td>\n",
       "    <td style='padding: 5px 20px 5px 20px;'>20</td>\n",
       "    <td style='padding: 5px 20px 5px 20px;'>-10.00</td>\n",
       "    <td style='padding: 5px 20px 5px 20px;'>10.00</td>\n",
       "    <td style='padding: 5px 20px 5px 20px;'>1.00</td>\n",
       "    <td style='padding: 5px 20px 5px 20px;'>1.00</td>\n",
       "    <td style='padding: 5px 20px 5px 20px;'>1.00</td>\n",
       "  </tr>\n",
       "  <tr>\n",
       "    <td style='padding: 5px 20px 5px 20px;'>z</td>\n",
       "    <td style='padding: 5px 20px 5px 20px;'>20</td>\n",
       "    <td style='padding: 5px 20px 5px 20px;'>-10.00</td>\n",
       "    <td style='padding: 5px 20px 5px 20px;'>10.00</td>\n",
       "    <td style='padding: 5px 20px 5px 20px;'>1.00</td>\n",
       "    <td style='padding: 5px 20px 5px 20px;'>1.00</td>\n",
       "    <td style='padding: 5px 20px 5px 20px;'>1.00</td>\n",
       "  </tr>\n",
       "</table>\n"
      ],
      "text/plain": [
       "\n",
       "  TensorMesh: 8,000 cells\n",
       "\n",
       "                      MESH EXTENT             CELL WIDTH      FACTOR\n",
       "  dir    nC        min           max         min       max      max\n",
       "  ---   ---  ---------------------------  ------------------  ------\n",
       "   x     20        -10.00         10.00      1.00      1.00    1.00\n",
       "   y     20        -10.00         10.00      1.00      1.00    1.00\n",
       "   z     20        -10.00         10.00      1.00      1.00    1.00\n"
      ]
     },
     "execution_count": 3,
     "metadata": {},
     "output_type": "execute_result"
    }
   ],
   "source": [
    "mesh"
   ]
  },
  {
   "cell_type": "code",
   "execution_count": 4,
   "id": "dcc184e9",
   "metadata": {},
   "outputs": [],
   "source": [
    "mesh_oct = TreeMesh.read_UBC(\"large_octree_mesh.txt\")\n"
   ]
  },
  {
   "cell_type": "code",
   "execution_count": 5,
   "id": "db3ae1ae",
   "metadata": {},
   "outputs": [
    {
     "data": {
      "text/html": [
       "<table>\n",
       "<tr>\n",
       "<td style='font-weight: bold; font-size: 1.2em; text-align: center;'>OcTreeMesh</td>\n",
       "<td style='font-size: 1.2em; text-align: center;' colspan='2'>0.29% filled</td>\n",
       "</tr>\n",
       "<tr>\n",
       "<td>\n",
       "<table>\n",
       "<tr>\n",
       "<th style='padding: 5px 20px 5px 20px;'>Level</th>\n",
       "<th style='padding: 5px 20px 5px 20px;'>Number of cells</th>\n",
       "</tr>\n",
       "<tr>\n",
       "<td style='padding: 5px 20px 5px 20px;'>3</td>\n",
       "<td style='padding: 5px 20px 5px 20px;'>48</td>\n",
       "</tr>\n",
       "<tr>\n",
       "<td style='padding: 5px 20px 5px 20px;'>4</td>\n",
       "<td style='padding: 5px 20px 5px 20px;'>292</td>\n",
       "</tr>\n",
       "<tr>\n",
       "<td style='padding: 5px 20px 5px 20px;'>5</td>\n",
       "<td style='padding: 5px 20px 5px 20px;'>2069</td>\n",
       "</tr>\n",
       "<tr>\n",
       "<td style='padding: 5px 20px 5px 20px;'>6</td>\n",
       "<td style='padding: 5px 20px 5px 20px;'>3766</td>\n",
       "</tr>\n",
       "<tr>\n",
       "<td style='padding: 5px 20px 5px 20px;'>7</td>\n",
       "<td style='padding: 5px 20px 5px 20px;'>7903</td>\n",
       "</tr>\n",
       "<tr>\n",
       "<td style='padding: 5px 20px 5px 20px;'>8</td>\n",
       "<td style='padding: 5px 20px 5px 20px;'>35647</td>\n",
       "</tr>\n",
       "<tr>\n",
       "<td style='padding: 5px 20px 5px 20px;'>9</td>\n",
       "<td style='padding: 5px 20px 5px 20px;'>136611</td>\n",
       "</tr>\n",
       "<tr>\n",
       "<td style='padding: 5px 20px 5px 20px;'>10</td>\n",
       "<td style='padding: 5px 20px 5px 20px;'>582952</td>\n",
       "</tr>\n",
       "<tr>\n",
       "<td style='font-weight: bold; padding: 5px 20px 5px 20px;'> Total </td>\n",
       "<td style='padding: 5px 20px 5px 20px;'> 769288 </td>\n",
       "</tr>\n",
       "</table>\n",
       "</td>\n",
       "<td>\n",
       "<table>\n",
       "<tr>\n",
       "<th></th>\n",
       "<th style='padding: 5px 20px 5px 20px;' colspan='2'>Mesh extent</th>\n",
       "<th style='padding: 5px 20px 5px 20px;' colspan='2'>Cell widths</th>\n",
       "</tr>\n",
       "<tr>\n",
       "<th></th>\n",
       "<th style='padding: 5px 20px 5px 20px;'>min</th>\n",
       "<th style='padding: 5px 20px 5px 20px;'>max</th>\n",
       "<th style='padding: 5px 20px 5px 20px;'>min</th>\n",
       "<th style='padding: 5px 20px 5px 20px;'>max</th>\n",
       "</tr>\n",
       "<tr>\n",
       "<td style='padding: 5px 20px 5px 20px;'>x</td>\n",
       "<td style='padding: 5px 20px 5px 20px;'>498135.427</td>\n",
       "<td style='padding: 5px 20px 5px 20px;'>505815.427</td>\n",
       "<td style='padding: 5px 20px 5px 20px;'>15.0</td>\n",
       "<td style='padding: 5px 20px 5px 20px;'>1920.0</td>\n",
       "</tr>\n",
       "<tr>\n",
       "<td style='padding: 5px 20px 5px 20px;'>y</td>\n",
       "<td style='padding: 5px 20px 5px 20px;'>7436295.05</td>\n",
       "<td style='padding: 5px 20px 5px 20px;'>7443975.05</td>\n",
       "<td style='padding: 5px 20px 5px 20px;'>15.0</td>\n",
       "<td style='padding: 5px 20px 5px 20px;'>1920.0</td>\n",
       "</tr>\n",
       "<tr>\n",
       "<td style='padding: 5px 20px 5px 20px;'>z</td>\n",
       "<td style='padding: 5px 20px 5px 20px;'>-9272.717</td>\n",
       "<td style='padding: 5px 20px 5px 20px;'>6087.282999999999</td>\n",
       "<td style='padding: 5px 20px 5px 20px;'>15.0</td>\n",
       "<td style='padding: 5px 20px 5px 20px;'>1920.0</td>\n",
       "</tr>\n",
       "</table>\n",
       "</td>\n",
       "</tr>\n",
       "</table>\n"
      ],
      "text/plain": [
       "\n",
       "OcTreeMesh: 0.29% filled\n",
       "\n",
       "Level : Number of cells               Mesh Extent               Cell Widths    \n",
       "-----------------------           min     ,     max            min   ,   max   \n",
       "  3   :       48             ---------------------------   --------------------\n",
       "  4   :       292         x:  498135.427  , 505815.427        15.0   ,   1920.0  \n",
       "  5   :      2069         y:  7436295.05  , 7443975.05        15.0   ,   1920.0  \n",
       "  6   :      3766         z:   -9272.717  ,6087.282999999999      15.0   ,   1920.0  \n",
       "  7   :      7903      \n",
       "  8   :      35647     \n",
       "  9   :     136611     \n",
       " 10   :     582952     \n",
       "-----------------------\n",
       "Total :     769288     "
      ]
     },
     "execution_count": 5,
     "metadata": {},
     "output_type": "execute_result"
    }
   ],
   "source": [
    "mesh_oct"
   ]
  },
  {
   "cell_type": "code",
   "execution_count": 6,
   "id": "2ccd5a47",
   "metadata": {},
   "outputs": [
    {
     "name": "stdout",
     "output_type": "stream",
     "text": [
      "Model range: 0.00000001 to 10.00000000\n"
     ]
    }
   ],
   "source": [
    "\n",
    "# create halfspace model\n",
    "model_oct = 1e-8 * np.ones(mesh_oct.n_cells)\n",
    "model_oct[mesh_oct.gridCC[:, 2] < 0] = 0.0001  # Resistive bottom layer\n",
    "#add conductive layer between -100 and 0\n",
    "model_oct[(mesh_oct.gridCC[:, 2] < 0) & (mesh_oct.gridCC[:, 2] > -1000)] = 10.0  # Conductive layer\n",
    "print(f\"Model range: {model_oct.min():.8f} to {model_oct.max():.8f}\")\n"
   ]
  },
  {
   "cell_type": "code",
   "execution_count": 7,
   "id": "ac0b6eb7",
   "metadata": {},
   "outputs": [
    {
     "name": "stderr",
     "output_type": "stream",
     "text": [
      "<>:23: SyntaxWarning: invalid escape sequence '\\s'\n",
      "<>:23: SyntaxWarning: invalid escape sequence '\\s'\n",
      "/tmp/ipykernel_3477163/1870235623.py:23: SyntaxWarning: invalid escape sequence '\\s'\n",
      "  cbar.set_label(\"$\\sigma$ [S/m]\", rotation=270, labelpad=15, size=16)\n"
     ]
    },
    {
     "data": {
      "image/png": "[encoded data removed]",
      "text/plain": [
       "<Figure size 1000x450 with 2 Axes>"
      ]
     },
     "metadata": {},
     "output_type": "display_data"
    }
   ],
   "source": [
    "import matplotlib.pyplot as plt\n",
    "from matplotlib import colorbar\n",
    "from matplotlib.colors import LogNorm\n",
    "fig = plt.figure(figsize=(10, 4.5))\n",
    "norm = LogNorm(vmin=1e-8, vmax=10)\n",
    "\n",
    "ax1 = fig.add_axes([0.15, 0.15, 0.68, 0.75])\n",
    "mesh_oct.plot_slice(\n",
    "    (model_oct),\n",
    "    ax=ax1,\n",
    "    normal=\"y\",\n",
    "    ind=int(len(mesh_oct.h[0]) / 2),\n",
    "    grid=False,\n",
    "    pcolor_opts={\"norm\": norm},\n",
    ")\n",
    "\n",
    "#ax1.set_title(\"Initial Parametric Model\")\n",
    "\n",
    "ax2 = fig.add_axes([0.84, 0.15, 0.03, 0.75])\n",
    "cbar = colorbar.ColorbarBase(\n",
    "    ax2, norm=norm, orientation=\"vertical\"\n",
    ")\n",
    "cbar.set_label(\"$\\sigma$ [S/m]\", rotation=270, labelpad=15, size=16)\n"
   ]
  },
  {
   "cell_type": "code",
   "execution_count": null,
   "id": "0940837f",
   "metadata": {},
   "outputs": [
    {
     "name": "stdout",
     "output_type": "stream",
     "text": [
      "Creating improved TreeMeshViewer...\n"
     ]
    },
    {
     "data": {
      "application/vnd.jupyter.widget-view+json": {
       "model_id": "c6ac3cf3d4ad40b093027d855b169e4a",
       "version_major": 2,
       "version_minor": 0
      },
      "text/plain": [
       "VBox(children=(HTML(value='<h3>🌳 TreeMesh Viewer</h3>'), HTML(value='<b>TreeMesh:</b> 769288 cells'), Dropdown…"
      ]
     },
     "metadata": {},
     "output_type": "display_data"
    },
    {
     "data": {
      "application/vnd.jupyter.widget-view+json": {
       "model_id": "47fb568d343e4512b6eaf8583aad07d7",
       "version_major": 2,
       "version_minor": 0
      },
      "text/plain": [
       "Output()"
      ]
     },
     "metadata": {},
     "output_type": "display_data"
    }
   ],
   "source": [
    "# Test the improved TreeMeshViewer\n",
    "print(\"Creating improved TreeMeshViewer...\")\n",
    "viewer_auto = create_mesh_viewer(mesh_oct, model_oct, cmap=\"viridis\", log_scale=True)\n",
    "viewer_auto.show()"
   ]
  }
 ],
 "metadata": {
  "kernelspec": {
   "display_name": "loop3d",
   "language": "python",
   "name": "python3"
  },
  "language_info": {
   "codemirror_mode": {
    "name": "ipython",
    "version": 3
   },
   "file_extension": ".py",
   "mimetype": "text/x-python",
   "name": "python",
   "nbconvert_exporter": "python",
   "pygments_lexer": "ipython3",
   "version": "3.12.11"
  }
 },
 "nbformat": 4,
 "nbformat_minor": 5
}
